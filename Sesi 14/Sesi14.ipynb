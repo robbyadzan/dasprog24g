{
  "metadata": {
    "kernelspec": {
      "name": "python",
      "display_name": "Python (Pyodide)",
      "language": "python"
    },
    "language_info": {
      "codemirror_mode": {
        "name": "python",
        "version": 3
      },
      "file_extension": ".py",
      "mimetype": "text/x-python",
      "name": "python",
      "nbconvert_exporter": "python",
      "pygments_lexer": "ipython3",
      "version": "3.8"
    }
  },
  "nbformat_minor": 5,
  "nbformat": 4,
  "cells": [
    {
      "id": "bc9ed517-6396-42fa-9024-3a1ab5d53adb",
      "cell_type": "code",
      "source": "def menuUtama():\n    print(\"\"\"\n    ======MENU======\n    1. Menambahkan Mahasiswa\n    2. Menampilkan Daftar Mahasiswa\n    3. Exit\n    \"\"\")\n\ndef tambah():\n    try:\n        nama = input(\"MASUKKAN NAMA (MINIMAL 6 DIGIT): \")\n        if len(nama) < 6:\n            print(\"NAMA TERLALU PENDEK, MINIMAL 6 DIGIT.\")\n            return\n        nim = input(\"MASUKKAN NIM (WAJIB 11 DIGIT): \")\n        if len(nim) != 11 or not nim.isdigit():\n            print(\"NIM HARUS 11 DIGIT.\")\n            return\n        alamat = input(\"MASUKKAN ALAMAT (MINIMAL 10 DIGIT): \")\n        if len(alamat) < 10:\n            print(\"ALAMAT TERLALU PENDEK, MINIMAL 10 DIGIT.\")\n            return\n        kelas = input(\"MASUKKAN KELAS (TI23 ATAU TI24): \")\n        if kelas not in (\"TI23\",\"TI24\"):\n            print(\"DIKHUSUSKAN UNTUK TI23 DAN TI24.\")\n            return\n\n        mahasiswa = f\"{nama}, {nim}, {alamat}, {kelas}\\n\"\n\n        with open('data_mahasiswa.txt','a') as f:\n            f.write(mahasiswa)\n\n    except ValueError:\n        print(\"MASUKKAN YANG BENAR!!!.\")\n    else:\n        print(\"DATA MAHASISWA BERHASIL DITAMBAHKAN.\")\n    finally:\n        print(\"PROSES MENAMBAHKAN SELESAI.\")\n\ndef tampil():\n    try:\n        with open('data_mahasiswa.txt','r') as f:\n            daftar = f.read()\n            if not daftar:\n                print(\"TIDAK ADA DATA DALAM DAFTAR!!!\")\n            else:\n                print(daftar)\n    except FileNotFoundError:\n        print(\"FILE TIDAK DITEMUKAN!!!\")\n    finally:\n        print(\"PROGRAM SELESAI!!!\")",
      "metadata": {
        "trusted": true
      },
      "outputs": [],
      "execution_count": 1
    },
    {
      "id": "2bdadaea-d763-4a78-b634-55c5e90538fa",
      "cell_type": "code",
      "source": "while True:\n    try:\n        menuUtama()\n        pilihan = int(input(\"MASUKKAN PILIHAN ANDA (1-3): \"))\n        if pilihan == 1:\n            tambah()\n        elif pilihan == 2:\n            tampil()\n        elif pilihan == 3:\n            print(\"ANDA KELUAR DARI PROGRAM, TERIMA KASIH!.\")\n            break\n\n    except ValueError:\n        print(\"MASUKKAN YANG BENAR!!!\")\n    else:\n        pass",
      "metadata": {
        "trusted": true
      },
      "outputs": [
        {
          "name": "stdout",
          "output_type": "stream",
          "text": "\n    ======MENU======\n    1. Menambahkan Mahasiswa\n    2. Menampilkan Daftar Mahasiswa\n    3. Exit\n    \n"
        },
        {
          "output_type": "stream",
          "name": "stdin",
          "text": "MASUKKAN PILIHAN ANDA (1-3):  1\nMASUKKAN NAMA (MINIMAL 6 DIGIT):  Robby A\nMASUKKAN NIM (WAJIB 11 DIGIT):  20240040236\nMASUKKAN ALAMAT (MINIMAL 10 DIGIT):  Cisaat-Cisaat\nMASUKKAN KELAS (TI23 ATAU TI24):  TI24\n"
        },
        {
          "name": "stdout",
          "output_type": "stream",
          "text": "DATA MAHASISWA BERHASIL DITAMBAHKAN.\nPROSES MENAMBAHKAN SELESAI.\n\n    ======MENU======\n    1. Menambahkan Mahasiswa\n    2. Menampilkan Daftar Mahasiswa\n    3. Exit\n    \n"
        },
        {
          "output_type": "stream",
          "name": "stdin",
          "text": "MASUKKAN PILIHAN ANDA (1-3):  1\nMASUKKAN NAMA (MINIMAL 6 DIGIT):  Nurul Jamilah\n"
        }
      ],
      "execution_count": null
    },
    {
      "id": "0e01029b-26d4-46bf-9c24-a0750969d567",
      "cell_type": "code",
      "source": "",
      "metadata": {
        "trusted": true
      },
      "outputs": [],
      "execution_count": null
    }
  ]
}