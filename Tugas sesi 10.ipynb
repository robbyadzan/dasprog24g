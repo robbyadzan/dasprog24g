{
 "cells": [
  {
   "cell_type": "code",
   "execution_count": 20,
   "id": "ae0ac6f7-ca6f-47e5-aaae-24370ebb8987",
   "metadata": {},
   "outputs": [],
   "source": [
    "mhs = {}"
   ]
  },
  {
   "cell_type": "code",
   "execution_count": 26,
   "id": "d7a7a0f7-d147-4382-8950-da0ff7849a2f",
   "metadata": {},
   "outputs": [],
   "source": [
    "def MenuUtama():\n",
    "    print(\"\"\"\n",
    "    1.  Tambah Mahasiswa\n",
    "    2.  Tampilkan Seluruh Mahasiswa\n",
    "    3.  Cari Mahasiswa\n",
    "    4.  Update IPK Mahasiswa\n",
    "    5.  Hapus Mahasiswa\n",
    "    6.  Keluar Pilihan Anda:\n",
    "    \"\"\")\n",
    "    return int(input(\"Masukan Pilihan\"))\n",
    "\n",
    "def TambahPelajar():\n",
    "    NIM = int(input(\"Masukan NIM : \"))\n",
    "    nama = input(\"Masukan nama : \")\n",
    "    jurusan = input(\"Masukan jurusan : \")\n",
    "    IPK = float(input(\"Masukan IPK : \"))\n",
    "    mhs[NIM] = (nama,jurusan,IPK)\n",
    "\n",
    "def CariPelajar():\n",
    "    NIM = int(input(\"Masukan NIM yang ingin dicari : \"))\n",
    "    print(f\" NIM: {NIM} \\t Nama: {mhs[NIM][0]} \\t jurusan: {mhs[NIM][1]} \\t IPK: {mhs[NIM][2]}\")\n",
    "\n",
    "def editIPK():\n",
    "    NIM = int(input(\"Masukan NIM : \"))\n",
    "    nama,jurusan,IPK = mhs[NIM][0],mhs[NIM][1],mhs[NIM][2]\n",
    "    IPK = float(input(\"Masukan Nilai IPK : \"))\n",
    "    mhs[NIM]=(nama,jurusan,IPK)\n",
    "    print(\"IPK sudah di update\")\n",
    "\n",
    "def DoPelajar():\n",
    "    NIM = int(input(\"Masukan data NIM yang ingin di hapus : \"))\n",
    "    mhs.pop(NIM)"
   ]
  },
  {
   "cell_type": "code",
   "execution_count": 30,
   "id": "20a254d1-7959-4b7a-af56-147cc451c344",
   "metadata": {},
   "outputs": [
    {
     "name": "stdout",
     "output_type": "stream",
     "text": [
      "\n",
      "    1.  Tambah Mahasiswa\n",
      "    2.  Tampilkan Seluruh Mahasiswa\n",
      "    3.  Cari Mahasiswa\n",
      "    4.  Update IPK Mahasiswa\n",
      "    5.  Hapus Mahasiswa\n",
      "    6.  Keluar Pilihan Anda:\n",
      "    \n"
     ]
    },
    {
     "name": "stdin",
     "output_type": "stream",
     "text": [
      "Masukan Pilihan 1\n",
      "Masukan NIM :  20240040236\n",
      "Masukan nama :  Robby Adzan Azhari\n",
      "Masukan jurusan :  Teknik Informatika\n",
      "Masukan IPK :  3.0\n"
     ]
    },
    {
     "name": "stdout",
     "output_type": "stream",
     "text": [
      "\n",
      "    1.  Tambah Mahasiswa\n",
      "    2.  Tampilkan Seluruh Mahasiswa\n",
      "    3.  Cari Mahasiswa\n",
      "    4.  Update IPK Mahasiswa\n",
      "    5.  Hapus Mahasiswa\n",
      "    6.  Keluar Pilihan Anda:\n",
      "    \n"
     ]
    },
    {
     "name": "stdin",
     "output_type": "stream",
     "text": [
      "Masukan Pilihan 2\n"
     ]
    },
    {
     "name": "stdout",
     "output_type": "stream",
     "text": [
      " NIM: 20240040236 \t Nama: Robby Adzan Azhari \t jurusan: Teknik Informatika \t IPK: 3.0\n",
      "\n",
      "    1.  Tambah Mahasiswa\n",
      "    2.  Tampilkan Seluruh Mahasiswa\n",
      "    3.  Cari Mahasiswa\n",
      "    4.  Update IPK Mahasiswa\n",
      "    5.  Hapus Mahasiswa\n",
      "    6.  Keluar Pilihan Anda:\n",
      "    \n"
     ]
    },
    {
     "name": "stdin",
     "output_type": "stream",
     "text": [
      "Masukan Pilihan 3\n",
      "Masukan NIM yang ingin dicari :  20240040236\n"
     ]
    },
    {
     "name": "stdout",
     "output_type": "stream",
     "text": [
      " NIM: 20240040236 \t Nama: Robby Adzan Azhari \t jurusan: Teknik Informatika \t IPK: 3.0\n",
      "\n",
      "    1.  Tambah Mahasiswa\n",
      "    2.  Tampilkan Seluruh Mahasiswa\n",
      "    3.  Cari Mahasiswa\n",
      "    4.  Update IPK Mahasiswa\n",
      "    5.  Hapus Mahasiswa\n",
      "    6.  Keluar Pilihan Anda:\n",
      "    \n"
     ]
    },
    {
     "name": "stdin",
     "output_type": "stream",
     "text": [
      "Masukan Pilihan 4\n",
      "Masukan NIM :  20240040236\n",
      "Masukan Nilai IPK :  3.6\n"
     ]
    },
    {
     "name": "stdout",
     "output_type": "stream",
     "text": [
      "IPK sudah di update\n",
      "\n",
      "    1.  Tambah Mahasiswa\n",
      "    2.  Tampilkan Seluruh Mahasiswa\n",
      "    3.  Cari Mahasiswa\n",
      "    4.  Update IPK Mahasiswa\n",
      "    5.  Hapus Mahasiswa\n",
      "    6.  Keluar Pilihan Anda:\n",
      "    \n"
     ]
    },
    {
     "name": "stdin",
     "output_type": "stream",
     "text": [
      "Masukan Pilihan 5\n",
      "Masukan data NIM yang ingin di hapus :  20240040236\n"
     ]
    },
    {
     "name": "stdout",
     "output_type": "stream",
     "text": [
      "Mahasiswa sudah diDO\n",
      "\n",
      "    1.  Tambah Mahasiswa\n",
      "    2.  Tampilkan Seluruh Mahasiswa\n",
      "    3.  Cari Mahasiswa\n",
      "    4.  Update IPK Mahasiswa\n",
      "    5.  Hapus Mahasiswa\n",
      "    6.  Keluar Pilihan Anda:\n",
      "    \n"
     ]
    },
    {
     "name": "stdin",
     "output_type": "stream",
     "text": [
      "Masukan Pilihan 6\n"
     ]
    },
    {
     "name": "stdout",
     "output_type": "stream",
     "text": [
      "Anda diDO\n"
     ]
    }
   ],
   "source": [
    "while True:\n",
    "    pil = MenuUtama()\n",
    "    if pil == 1:\n",
    "        TambahPelajar()\n",
    "    elif pil ==2:\n",
    "        for key,value in mhs.items():\n",
    "            print(f\" NIM: {key} \\t Nama: {value[0]} \\t jurusan: {value[1]} \\t IPK: {value[2]}\")\n",
    "    elif pil ==3:\n",
    "        CariPelajar()\n",
    "    elif pil ==4:\n",
    "        editIPK()\n",
    "    elif pil == 5:\n",
    "        DoPelajar()\n",
    "        print(\"Mahasiswa sudah diDO\")\n",
    "    elif pil == 6:\n",
    "        print(\"Anda diDO\")\n",
    "        break"
   ]
  }
 ],
 "metadata": {
  "kernelspec": {
   "display_name": "Python [conda env:base] *",
   "language": "python",
   "name": "conda-base-py"
  },
  "language_info": {
   "codemirror_mode": {
    "name": "ipython",
    "version": 3
   },
   "file_extension": ".py",
   "mimetype": "text/x-python",
   "name": "python",
   "nbconvert_exporter": "python",
   "pygments_lexer": "ipython3",
   "version": "3.12.7"
  }
 },
 "nbformat": 4,
 "nbformat_minor": 5
}
