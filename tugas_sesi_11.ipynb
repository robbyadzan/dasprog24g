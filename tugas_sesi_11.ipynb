{
 "cells": [
  {
   "cell_type": "code",
   "execution_count": 2,
   "id": "1e8982b1-cb11-4068-b2c3-ff1049207836",
   "metadata": {},
   "outputs": [
    {
     "name": "stdout",
     "output_type": "stream",
     "text": [
      "UKA ATNIC UMAK\n"
     ]
    }
   ],
   "source": [
    "def reverse_per_kata(kalimat):\n",
    "    kata = kalimat.split()      #memisahkan kalimat menjadi list kata\n",
    "    hasil = []                  #variabel kosong untuk menampung list\n",
    "    for i in kata:              #looping kata pada variabel kata\n",
    "        hasil.append(i[::-1])   #membalikan kata dan menambahkan ke variabel hasil\n",
    "    return ' '.join(hasil)      #menggabungkan kata-kata pada variabel hasil dengan menambahkan spasi\n",
    "\n",
    "print(reverse_per_kata(\"AKU CINTA KAMU\"))"
   ]
  },
  {
   "cell_type": "code",
   "execution_count": 14,
   "id": "d7d0b8af-8f49-4e38-86de-eea21dc76527",
   "metadata": {},
   "outputs": [
    {
     "name": "stdout",
     "output_type": "stream",
     "text": [
      "PYTHON HARI BELAJAR SEDANG INI\n"
     ]
    }
   ],
   "source": [
    "# Output: \"UKA ATNIC UMAK\"\n",
    "\n",
    "def urutkan_kalimat(kalimat, urutan):\n",
    "    kata = kalimat.split()            #memisahkan kalimat menjadi list kata\n",
    "    terurut = []                      #variabel kosong untuk menampung list\n",
    "    for i in urutan:                  #looping inputan list pada parameter urutan\n",
    "        terurut.append(kata[i - 1])   #menambahkan kata dengan indeks - 1 ke variabel terurut \n",
    "    return ' '.join(terurut)          #menggabungkan kata-kata pada variabel hasil dengan menambahkan spasi\n",
    "print(urutkan_kalimat(\"HARI INI SEDANG BELAJAR PYTHON\", [5, 1, 4, 3, 2]))"
   ]
  },
  {
   "cell_type": "code",
   "execution_count": 16,
   "id": "e161a0de-dc3d-40b0-86b0-b554186f8fef",
   "metadata": {},
   "outputs": [
    {
     "name": "stdout",
     "output_type": "stream",
     "text": [
      "Ak|_| C1nt4 K4m|_|\n",
      "4ku Cinta Kamu\n"
     ]
    }
   ],
   "source": [
    "# Output: \"PYTHON HARI BELAJAR SEDANG INI\"\n",
    "\n",
    "def ganti_vokal(kalimat, opsi):\n",
    "    vokal_kecil = {'a' : '4', 'i' : '1', 'u' : '|_|', 'e' : '3', 'o' : '0'}  #kamus vokal kecil\n",
    "    vokal_besar = {'A' : '4', 'I' : '1', 'U' : '|_|', 'E' : '3', 'O' : '0'}  #kamus vokal besar\n",
    "    \n",
    "    hasil = \"\"                                     #variabel kosong untuk menampung hasil akhir\n",
    "    for huruf in kalimat:                          #looping inputan pada parameter kalimat\n",
    "        if opsi == 1 and huruf in vokal_kecil:     #jika opsi 1 dan huruf ada pada vokal kecil\n",
    "            hasil += vokal_kecil[huruf]            #ganti dengan simbol dari kamus vokal_kecil\n",
    "        elif opsi == 2 and huruf in vokal_besar:   #jika opsi 1 dan huruf ada pada vokal besar\n",
    "            hasil += vokal_besar[huruf]            #ganti dengan simbol dari kamus vokal_besar\n",
    "        else:\n",
    "            hasil += huruf                         #jika bukan vokal yang ditentukan, biarkan huruf tetap\n",
    "    return hasil\n",
    "\n",
    "print(ganti_vokal(\"Aku Cinta Kamu\", 1))\n",
    "# Output: \"Ak|_| C1nt4 K4m|_|\"\n",
    "print(ganti_vokal(\"Aku Cinta Kamu\", 2))\n",
    "# Output: \"4ku Cinta Kamu\""
   ]
  }
 ],
 "metadata": {
  "kernelspec": {
   "display_name": "Python [conda env:base] *",
   "language": "python",
   "name": "conda-base-py"
  },
  "language_info": {
   "codemirror_mode": {
    "name": "ipython",
    "version": 3
   },
   "file_extension": ".py",
   "mimetype": "text/x-python",
   "name": "python",
   "nbconvert_exporter": "python",
   "pygments_lexer": "ipython3",
   "version": "3.12.7"
  }
 },
 "nbformat": 4,
 "nbformat_minor": 5
}
